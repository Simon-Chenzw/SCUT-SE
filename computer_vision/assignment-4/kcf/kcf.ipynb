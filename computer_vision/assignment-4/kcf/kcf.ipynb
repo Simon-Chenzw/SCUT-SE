{
 "cells": [
  {
   "cell_type": "code",
   "execution_count": 1,
   "id": "0160d7a6",
   "metadata": {},
   "outputs": [],
   "source": [
    "#环境配置\n",
    "import cv2\n",
    "import sys\n",
    "import json\n",
    "import numpy as np\n",
    "from os.path import join, isdir\n",
    "from IPython.display import clear_output, Image, display, HTML\n",
    "import time\n",
    "import ipywidgets as widgets\n",
    "import kcftracker"
   ]
  },
  {
   "cell_type": "code",
   "execution_count": 2,
   "id": "3dd1cb32",
   "metadata": {},
   "outputs": [],
   "source": [
    "#读取dataset和配置文件\n",
    "dataset = \"OTB100\"\n",
    "base_path = join(dataset)\n",
    "json_path = join(dataset + '.json')\n",
    "annos = json.load(open(json_path, 'r'))\n"
   ]
  },
  {
   "cell_type": "code",
   "execution_count": 3,
   "id": "41875848",
   "metadata": {},
   "outputs": [],
   "source": [
    "#选择测试用的序列\n",
    "testvideo = ['dog']\n",
    "# 可以从下面任意选择放入testvideo中\n",
    "# ['basketball','biker','bird1','bird2','blurBody','blurCar1','blurCar2','blurCar3','blurCar4','blurFace','blurOwl','board','bolt',\n",
    "#  'bolt2','box','boy','car1','car2','car24','car4','carDark','carScale','clifBar','coke','couple','coupon','crossing','crowds','dancer','dancer2',\n",
    "#  'david','david2','david3','deer','diving','dog','dog1','doll','dragonBaby','dudek','faceocc1','faceocc2','fish','fleetface','football','football1','freeman1',\n",
    "#  'freeman3' 'freeman4','girl','girl2','gym','human2','human3','human4_2','human5','human6','human7','human8','human9','ironman','jogging_1','jogging_2','jump',\n",
    "#  'jumping','kiteSurf', 'lemming','liquor','man','matrix','mhyang','motorRolling','mountainBike','panda','redTeam','rubik','shaking','singer1','singer2',\n",
    "#  'skater','skater2', 'skating1','skating2_1','skating2_2','skiing','soccer','subway','surfer','suv','sylvester','tiger1','tiger2','toy','trans','trellis','twinnings','vase','walking','walking2','woman']\n",
    "# \n",
    "#初始化kcftracker\n",
    "tracker = kcftracker.KCFTracker(True, True, True) "
   ]
  },
  {
   "cell_type": "code",
   "execution_count": 4,
   "id": "9d21962c",
   "metadata": {},
   "outputs": [
    {
     "data": {
      "application/vnd.jupyter.widget-view+json": {
       "model_id": "a6396b617a344a7d87fdffc4b9f48fbd",
       "version_major": 2,
       "version_minor": 0
      },
      "text/plain": [
       "Image(value=b'', format='jpg', height='240', width='352')"
      ]
     },
     "metadata": {},
     "output_type": "display_data"
    }
   ],
   "source": [
    "#测试KCF Tracker\n",
    "for video_id, video in enumerate(testvideo):  \n",
    "        video_path_name = annos[video]['name'] #获取视频名称\n",
    "        init_rect = np.array(annos[video]['init_rect']) #获取初始帧的bounding box\n",
    "        image_files = [join(base_path, video_path_name, 'img', im_f) for im_f in annos[video]['image_files']] #获取视频中所有图片的路径\n",
    "        n_images = len(image_files)#获取视频长度\n",
    "\n",
    "        \n",
    "        first_im = cv2.imread(image_files[0])  # 读取图片\n",
    "        tracker.init(init_rect,first_im) #利用初始图像和boundingbox初始化跟踪器\n",
    "        \n",
    "        imgbox = widgets.Image(format='jpg', height=first_im.shape[0], width=first_im.shape[1]) #创建图片展示套件\n",
    "        display(imgbox)\n",
    "        \n",
    "        \n",
    "        for count in range(1 , n_images):\n",
    "            \n",
    "            gt = annos[video]['gt_rect'][count] #获取gt\n",
    "            img = cv2.imread(image_files[count])#读取图片\n",
    "            \n",
    "            boundingbox = tracker.update(img)#获取计算得到的boundingbox\n",
    "            boundingbox = list(map(int, boundingbox))#将boundingbox中的数字转为int\n",
    "            \n",
    "            #绘制预测的boundingbox 框颜色为红色\n",
    "            cv2.rectangle(img, (boundingbox[0],boundingbox[1]), (boundingbox[0]+boundingbox[2],boundingbox[1]+boundingbox[3]),(0,0,255), 3)\n",
    "            #绘制groudtruth作为对比 框颜色为绿色\n",
    "            cv2.rectangle(img, (gt[0],gt[1]), (gt[0]+gt[2],gt[1]+gt[3]),(0, 255, 0), 3)\n",
    "            \n",
    "            #图像更新\n",
    "            imgbox.value = cv2.imencode('.jpg', img)[1].tobytes()"
   ]
  },
  {
   "cell_type": "code",
   "execution_count": 5,
   "id": "0f459022",
   "metadata": {},
   "outputs": [],
   "source": [
    "#计算两个boundingbox的中心点偏移，bbox均为ltwh模式\n",
    "def compute_center_error(bbox1,bbox2):\n",
    "    cen1 = np.array([bbox1[0]+bbox1[2]-1/2,bbox1[1]+bbox1[3]-1/2])\n",
    "    cen2 = np.array([bbox2[0]+bbox2[2]-1/2,bbox2[1]+bbox2[3]-1/2])\n",
    "    errors = np.sqrt(np.sum(np.power(cen1 - cen2, 2)))\n",
    "    return errors\n",
    "\n",
    "#计算两个boundingbox的iou bbox均为ltwh模式\n",
    "def compute_iou(bbox1,bbox2):\n",
    "    l1, t1, r1, d1 = bbox1[0], bbox1[1], bbox1[0]+bbox1[2], bbox1[1]+bbox1[3]\n",
    "    l2, t2, r2, d2 = bbox2[0], bbox2[1], bbox2[0]+bbox2[2], bbox2[1]+bbox2[3]\n",
    "    l = max(l1,l2)\n",
    "    t = max(t1,t2)\n",
    "    r = min(r1,r2)\n",
    "    d = min(d1,d2)\n",
    "    innerarea = (r - l)*(d - t)\n",
    "    if (r - l) <= 0 or (d - t)<=0:\n",
    "        return 0.0\n",
    "    outarea1 = bbox1[2] * bbox1[3]\n",
    "    outarea2 = bbox2[2] * bbox2[3]\n",
    "    return innerarea/(outarea1+outarea2-innerarea)\n",
    "\n",
    "#储存dict函数\n",
    "def jsonsave(filename,file):\n",
    "    with open(filename, 'w') as f_obj:\n",
    "        json.dump(file, f_obj)"
   ]
  },
  {
   "cell_type": "code",
   "execution_count": 6,
   "id": "ff12cdc2",
   "metadata": {},
   "outputs": [
    {
     "data": {
      "application/vnd.jupyter.widget-view+json": {
       "model_id": "d6556f8c24fb47b69e850cbd7dfd8a95",
       "version_major": 2,
       "version_minor": 0
      },
      "text/plain": [
       "Image(value=b'', format='jpg', height='480', width='640')"
      ]
     },
     "metadata": {},
     "output_type": "display_data"
    },
    {
     "name": "stdout",
     "output_type": "stream",
     "text": [
      "video_name:BlurCar1,  avg_iou:41.48369344319235%, avg_center_error:63.16077480969964\n"
     ]
    },
    {
     "data": {
      "application/vnd.jupyter.widget-view+json": {
       "model_id": "3a375648a236467bac71c69df5e74cb1",
       "version_major": 2,
       "version_minor": 0
      },
      "text/plain": [
       "Image(value=b'', format='jpg', height='432', width='576')"
      ]
     },
     "metadata": {},
     "output_type": "display_data"
    },
    {
     "name": "stdout",
     "output_type": "stream",
     "text": [
      "video_name:Basketball,  avg_iou:41.71576792492228%, avg_center_error:34.34113354769588\n"
     ]
    },
    {
     "data": {
      "application/vnd.jupyter.widget-view+json": {
       "model_id": "23df65b950ec40788df462ebec670026",
       "version_major": 2,
       "version_minor": 0
      },
      "text/plain": [
       "Image(value=b'', format='jpg', height='262', width='320')"
      ]
     },
     "metadata": {},
     "output_type": "display_data"
    },
    {
     "name": "stdout",
     "output_type": "stream",
     "text": [
      "video_name:Skater2,  avg_iou:57.947580218349046%, avg_center_error:16.429701875244593\n"
     ]
    },
    {
     "data": {
      "application/vnd.jupyter.widget-view+json": {
       "model_id": "32d27033d1854cafabfb75bbc8c3e29f",
       "version_major": 2,
       "version_minor": 0
      },
      "text/plain": [
       "Image(value=b'', format='jpg', height='240', width='320')"
      ]
     },
     "metadata": {},
     "output_type": "display_data"
    },
    {
     "name": "stdout",
     "output_type": "stream",
     "text": [
      "video_name:Sylvester,  avg_iou:48.87189434585061%, avg_center_error:30.793937144956317\n"
     ]
    },
    {
     "data": {
      "application/vnd.jupyter.widget-view+json": {
       "model_id": "21e556d2d9c94729b25449123e1aa5d3",
       "version_major": 2,
       "version_minor": 0
      },
      "text/plain": [
       "Image(value=b'', format='jpg', height='240', width='320')"
      ]
     },
     "metadata": {},
     "output_type": "display_data"
    },
    {
     "name": "stdout",
     "output_type": "stream",
     "text": [
      "video_name:Trellis,  avg_iou:79.37659357820131%, avg_center_error:5.625375227933234\n"
     ]
    },
    {
     "data": {
      "application/vnd.jupyter.widget-view+json": {
       "model_id": "f7331d543b8f4382b916b87805586b4f",
       "version_major": 2,
       "version_minor": 0
      },
      "text/plain": [
       "Image(value=b'', format='jpg', height='240', width='360')"
      ]
     },
     "metadata": {},
     "output_type": "display_data"
    },
    {
     "name": "stdout",
     "output_type": "stream",
     "text": [
      "video_name:Freeman3,  avg_iou:77.10462137658222%, avg_center_error:2.2328350670329296\n",
      "total_avg_iou:57.75002514784964%, total_avg_center_error:25.430626278760432\n"
     ]
    }
   ],
   "source": [
    "#计算在OTB上KCF跟踪算法的效果\n",
    "evaluate_save = dict()\n",
    "\n",
    "#用于存储每个视频的iou和center_error平均值\n",
    "iou_means = []\n",
    "center_error_means = []\n",
    "#选取6个视频作为评价指标\n",
    "videos =['blurCar1','basketball','skater2','sylvester','trellis','freeman3']\n",
    "for name in videos:\n",
    "    #视频名\n",
    "    video_path_name = annos[name]['name']\n",
    "    #图像名\n",
    "    imgs_name = annos[name]['image_files']\n",
    "    #groundtruth\n",
    "    imgs_gt = annos[name]['gt_rect']\n",
    "    #初始groudtruth\n",
    "    init_rect = annos[name]['init_rect']\n",
    "    #视频路径\n",
    "    image_files = [join(base_path, video_path_name, 'img', im_f) for im_f in imgs_name]\n",
    "    \n",
    "    first_image = cv2.imread(image_files[0])\n",
    "    imgbox = widgets.Image(format='jpg', height=first_image.shape[0], width=first_image.shape[1]) #创建图片展示套件\n",
    "    display(imgbox)\n",
    "   \n",
    "    #初始化tracker\n",
    "    tracker.init(init_rect,first_image)\n",
    "    \n",
    "    #存放每一帧的iou\n",
    "    video_ious = []\n",
    "    #存放每一帧的中心坐标差\n",
    "    video_center_errors = []\n",
    "    \n",
    "    \n",
    "    for num , path_name in enumerate(image_files[1:]):\n",
    "        im = cv2.imread(path_name)\n",
    "        boundingbox = tracker.update(im)\n",
    "        gt = imgs_gt[num+1]\n",
    "  \n",
    "        #OTB部分gt有误，跳过\n",
    "        if imgs_gt[num+1][2]==0 or imgs_gt[num+1][3]==0:\n",
    "            continue\n",
    "            \n",
    "            \n",
    "        #计算iou\n",
    "        iou = compute_iou(boundingbox,gt)\n",
    "        #计算center_error\n",
    "        center_error = compute_center_error(boundingbox,gt)\n",
    "                      #             # 跟踪框绘制\n",
    "        res = [int(l) for l in boundingbox]\n",
    "        cv2.rectangle(im, (res[0], res[1]), (res[0] + res[2], res[1] + res[3]), (0, 255, 255), 3)\n",
    "        cv2.rectangle(im, (imgs_gt[num+1][0], imgs_gt[num+1][1]), (imgs_gt[num+1][0] + imgs_gt[num+1][2], imgs_gt[num+1][1] + imgs_gt[num+1][3]), (255, 0, 0), 3)\n",
    "        cv2.putText(im, str(iou), (40, 40), cv2.FONT_HERSHEY_SIMPLEX, 1, (0, 255, 255), 2, cv2.LINE_AA)\n",
    "        #\n",
    "        #             # 显示跟踪结果\n",
    "        imgbox.value = cv2.imencode('.jpg', im)[1].tobytes()\n",
    "        cv2.waitKey(1)\n",
    "\n",
    "        #储存iou与center_error\n",
    "        video_ious.append(iou)\n",
    "        video_center_errors.append(center_error)\n",
    "    \n",
    "    #计算iou和中心偏差的平均值\n",
    "    iou_mean = np.mean(np.array(video_ious))\n",
    "    center_error_mean = np.mean(np.array(video_center_errors))\n",
    "    #存储\n",
    "    evaluate_save[name]={\n",
    "                \"name\":video_path_name,\n",
    "                \"video_ious\":video_ious,\n",
    "                \"iou_mean\":iou_mean,\n",
    "                \"video_center_errors\":video_center_errors,\n",
    "                \"center_error_mean\":center_error_mean\n",
    "           }\n",
    "    \n",
    "    iou_means.append(iou_mean)\n",
    "    center_error_means.append(center_error_mean)\n",
    "    print(\"video_name:{},  avg_iou:{}%, avg_center_error:{}\".format(video_path_name,(iou_mean*100),center_error_mean))\n",
    "\n",
    "#计算在所有视频中iou和中心偏差的平均值\n",
    "total_iou_mean = np.mean(np.array(iou_means))\n",
    "total_center_error_mean = np.mean(np.array(center_error_means))\n",
    "print(\"total_avg_iou:{}%, total_avg_center_error:{}\".format((total_iou_mean*100),total_center_error_mean))\n",
    "#储存计算结果\n",
    "jsonsave(\"OTB_evaluate_save.json\",evaluate_save)"
   ]
  },
  {
   "cell_type": "code",
   "execution_count": 7,
   "id": "9680af91",
   "metadata": {},
   "outputs": [],
   "source": [
    "#绘制iou和中心点误差图\n",
    "\n",
    "import matplotlib.pyplot as plt\n",
    "from scipy.interpolate import make_interp_spline\n",
    "#读取刚才计算的结果\n",
    "annos = json.load(open(\"OTB_evaluate_save.json\", 'r'))"
   ]
  },
  {
   "cell_type": "code",
   "execution_count": 8,
   "id": "33cc8403",
   "metadata": {},
   "outputs": [
    {
     "data": {
      "image/png": "[encoded data removed]",
      "text/plain": [
       "<Figure size 432x288 with 1 Axes>"
      ]
     },
     "metadata": {
      "needs_background": "light"
     },
     "output_type": "display_data"
    },
    {
     "data": {
      "image/png": "[encoded data removed]",
      "text/plain": [
       "<Figure size 432x288 with 1 Axes>"
      ]
     },
     "metadata": {
      "needs_background": "light"
     },
     "output_type": "display_data"
    }
   ],
   "source": [
    "#################绘制video_ious#########################\n",
    "al = []\n",
    "al = np.array(al)\n",
    "for i in annos:\n",
    "    al = np.append(al , annos[i][\"video_ious\"])\n",
    "al = np.ndarray.flatten(al)\n",
    "X = np.linspace(0, 1, 21, endpoint=True)\n",
    "Y = np.zeros([21])\n",
    "plt.axis([0,1,0,1])\n",
    "\n",
    "for i in range(21):\n",
    "        Y[i] = np.size(np.where(al>=X[i]))/np.size(al)\n",
    "\n",
    "x_smooth = np.linspace(X.min(),X.max(),300) #300 represents number of points to make between T.min and T.max\n",
    "# power_smooth = make_interp_spline(x_suc,L,xnew)\n",
    "y_smooth = make_interp_spline(X,Y)(x_smooth)\n",
    "# 加网格线\n",
    "plt.grid()\n",
    "# 标题 横纵坐标名\n",
    "plt.title(u\"Success plots of OPE\")\n",
    "plt.xlabel(u\"Overlap threshold\")\n",
    "plt.ylabel(u\"Success rate\")\n",
    "\n",
    "plt.plot(x_smooth,y_smooth)\n",
    "plt.show()\n",
    "##############################绘制video_center_errors##########################\n",
    "al = []\n",
    "al = np.array(al)\n",
    "for i in annos:\n",
    "    al = np.append(al , annos[i][\"video_center_errors\"])\n",
    "al = np.ndarray.flatten(al)\n",
    "X = np.linspace(0, 50, 51, endpoint=True)\n",
    "Y = np.zeros([51])\n",
    "plt.axis([0,50,0,1])\n",
    "\n",
    "for i in range(51):\n",
    "        Y[i] = np.size(np.where(al<=X[i]))/np.size(al)\n",
    "\n",
    "x_smooth = np.linspace(X.min(),X.max(),300) #300 represents number of points to make between T.min and T.max\n",
    "# power_smooth = make_interp_spline(x_suc,L,xnew)\n",
    "y_smooth = make_interp_spline(X,Y)(x_smooth)\n",
    "# 加网格线\n",
    "plt.grid()\n",
    "# 标题 横纵坐标名\n",
    "plt.title(u\"Precision plots of OPE\")\n",
    "plt.xlabel(u\"Location error threshold\")\n",
    "plt.ylabel(u\"Precision\")\n",
    "\n",
    "plt.plot(x_smooth,y_smooth)\n",
    "plt.show()\n"
   ]
  }
 ],
 "metadata": {
  "kernelspec": {
   "display_name": "python-3.7.10",
   "language": "python",
   "name": "python-3.7.10"
  },
  "language_info": {
   "codemirror_mode": {
    "name": "ipython",
    "version": 3
   },
   "file_extension": ".py",
   "mimetype": "text/x-python",
   "name": "python",
   "nbconvert_exporter": "python",
   "pygments_lexer": "ipython3",
   "version": "3.7.10"
  }
 },
 "nbformat": 4,
 "nbformat_minor": 5
}
